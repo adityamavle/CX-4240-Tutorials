{
 "cells": [
  {
   "cell_type": "markdown",
   "metadata": {
    "colab_type": "text",
    "id": "view-in-github"
   },
   "source": [
    "<a href=\"https://colab.research.google.com/github/adityamavle/CX-4240-Tutorials/blob/master/CX4240_Tutorial1_Python_Data_Analysis.ipynb\" target=\"_parent\"><img src=\"https://colab.research.google.com/assets/colab-badge.svg\" alt=\"Open In Colab\"/></a>"
   ]
  },
  {
   "cell_type": "markdown",
   "metadata": {
    "id": "b_sEKnWGUHwH"
   },
   "source": [
    "# Coding Tutorial 1: Python for Data Analysis\n",
    "This tutorial introduces standard Python libraries and functions that will be an essential part of your Machine Learning and Data Analysis toolkit for this semester and will assist you with the programming components of the course assignments."
   ]
  },
  {
   "cell_type": "markdown",
   "metadata": {
    "id": "Stlt-nbdXnEO"
   },
   "source": [
    "# Python for Data Analysis Fundamentals"
   ]
  },
  {
   "cell_type": "markdown",
   "metadata": {
    "id": "PfSV4VihZzA2"
   },
   "source": [
    "### Python Lists:\n",
    "A list is a collection of items. Lists can hold elements of any type, including numbers, strings, or even other lists. Lists are:\n",
    "\n",
    "Ordered: The items have a specific order.\n",
    "Mutable: You can modify their elements."
   ]
  },
  {
   "cell_type": "markdown",
   "metadata": {
    "id": "ylFBTCdBhQfI"
   },
   "source": [
    "### Creating Lists"
   ]
  },
  {
   "cell_type": "code",
   "execution_count": null,
   "metadata": {
    "colab": {
     "base_uri": "https://localhost:8080/"
    },
    "id": "OCFhA5tjP95d",
    "outputId": "bb643ed0-621f-47f4-d457-4915f4210894"
   },
   "outputs": [
    {
     "name": "stdout",
     "output_type": "stream",
     "text": [
      "Length of the 1D list: 5\n"
     ]
    }
   ],
   "source": [
    "# Create a 1D list of nums\n",
    "nums = [10, 20, 30, 40, 50]\n",
    "print(\"Length of the 1D list:\", len(nums))"
   ]
  },
  {
   "cell_type": "code",
   "execution_count": null,
   "metadata": {
    "colab": {
     "base_uri": "https://localhost:8080/"
    },
    "id": "fKea6W5leiVs",
    "outputId": "3933e6f6-d024-4462-939e-8f6a7bd3d816"
   },
   "outputs": [
    {
     "name": "stdout",
     "output_type": "stream",
     "text": [
      "Shape of the 2D list: (3, 3)\n"
     ]
    }
   ],
   "source": [
    "# Create a 2D list (matrix)\n",
    "matrix = [\n",
    "    [1, 2, 3],\n",
    "    [4, 5, 6],\n",
    "    [7, 8, 9]\n",
    "]\n",
    "\n",
    "rows = len(matrix)\n",
    "columns = len(matrix[0])\n",
    "print(\"Shape of the 2D list:\", (rows, columns))"
   ]
  },
  {
   "cell_type": "markdown",
   "metadata": {
    "id": "JAW-5FEZhL-C"
   },
   "source": [
    "### List Slicing"
   ]
  },
  {
   "cell_type": "markdown",
   "metadata": {
    "id": "gAhwGZ4fhyfm"
   },
   "source": [
    "Slicing General Syntax\n",
    "\n",
    "\n",
    "\n",
    "```\n",
    "list[start:stop:step]\n",
    "```\n",
    "\n"
   ]
  },
  {
   "cell_type": "code",
   "execution_count": null,
   "metadata": {
    "id": "WHPKQGJGhTXg"
   },
   "outputs": [],
   "source": [
    "sub_list = nums[1:4]\n",
    "#Aditya Testing Changes "
   ]
  },
  {
   "cell_type": "markdown",
   "metadata": {
    "id": "YZPTypRKX8fV"
   },
   "source": [
    "## Numpy"
   ]
  },
  {
   "cell_type": "code",
   "execution_count": null,
   "metadata": {
    "id": "u0Yj_Q9AYA4m"
   },
   "outputs": [],
   "source": []
  },
  {
   "cell_type": "markdown",
   "metadata": {
    "id": "4cVmqTXXh75f"
   },
   "source": []
  },
  {
   "cell_type": "markdown",
   "metadata": {
    "id": "huO5AFzciC1V"
   },
   "source": [
    "# Pandas\n"
   ]
  },
  {
   "cell_type": "markdown",
   "metadata": {
    "id": "kuKMv-2ZiIr3"
   },
   "source": [
    "The `pandas` library provides high-performance, easy-to-use data structures and data analysis tools. The main data structure is `DataFrame`, which can be thought of as a 2D table (with column names and row labels).\n",
    "\n"
   ]
  },
  {
   "cell_type": "markdown",
   "metadata": {
    "id": "J_JkbBPGa1qt"
   },
   "source": [
    "## Setup"
   ]
  },
  {
   "cell_type": "markdown",
   "metadata": {
    "id": "bKufmhMRbUnt"
   },
   "source": []
  }
 ],
 "metadata": {
  "colab": {
   "include_colab_link": true,
   "provenance": []
  },
  "kernelspec": {
   "display_name": "Python 3",
   "name": "python3"
  },
  "language_info": {
   "name": "python"
  }
 },
 "nbformat": 4,
 "nbformat_minor": 0
}
