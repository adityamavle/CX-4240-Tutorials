{
  "nbformat": 4,
  "nbformat_minor": 0,
  "metadata": {
    "colab": {
      "provenance": [],
      "include_colab_link": true
    },
    "kernelspec": {
      "name": "python3",
      "display_name": "Python 3"
    },
    "language_info": {
      "name": "python"
    }
  },
  "cells": [
    {
      "cell_type": "markdown",
      "metadata": {
        "id": "view-in-github",
        "colab_type": "text"
      },
      "source": [
        "<a href=\"https://colab.research.google.com/github/adityamavle/CX-4240-Tutorials/blob/master/CX4240_Tutorial1_Python_Data_Analysis.ipynb\" target=\"_parent\"><img src=\"https://colab.research.google.com/assets/colab-badge.svg\" alt=\"Open In Colab\"/></a>"
      ]
    },
    {
      "cell_type": "markdown",
      "source": [
        "# Coding Tutorial 1: Python for Data Analysis\n",
        "This tutorial introduces standard Python libraries and functions that will be an essential part of your Machine Learning and Data Analysis toolkit for this semester and will assist you with the programming components of the course assignments."
      ],
      "metadata": {
        "id": "b_sEKnWGUHwH"
      }
    },
    {
      "cell_type": "markdown",
      "source": [
        "# Python for Data Analysis Fundamentals"
      ],
      "metadata": {
        "id": "Stlt-nbdXnEO"
      }
    },
    {
      "cell_type": "markdown",
      "source": [
        "### Python Lists:\n",
        "A list is a collection of items. Lists can hold elements of any type, including numbers, strings, or even other lists. Lists are:\n",
        "\n",
        "Ordered: The items have a specific order.\n",
        "Mutable: You can modify their elements."
      ],
      "metadata": {
        "id": "PfSV4VihZzA2"
      }
    },
    {
      "cell_type": "markdown",
      "source": [
        "### Creating Lists"
      ],
      "metadata": {
        "id": "ylFBTCdBhQfI"
      }
    },
    {
      "cell_type": "code",
      "execution_count": null,
      "metadata": {
        "id": "OCFhA5tjP95d",
        "colab": {
          "base_uri": "https://localhost:8080/"
        },
        "outputId": "bb643ed0-621f-47f4-d457-4915f4210894"
      },
      "outputs": [
        {
          "output_type": "stream",
          "name": "stdout",
          "text": [
            "Length of the 1D list: 5\n"
          ]
        }
      ],
      "source": [
        "# Create a 1D list of nums\n",
        "nums = [10, 20, 30, 40, 50]\n",
        "print(\"Length of the 1D list:\", len(nums))"
      ]
    },
    {
      "cell_type": "code",
      "source": [
        "# Create a 2D list (matrix)\n",
        "matrix = [\n",
        "    [1, 2, 3],\n",
        "    [4, 5, 6],\n",
        "    [7, 8, 9]\n",
        "]\n",
        "\n",
        "rows = len(matrix)\n",
        "columns = len(matrix[0])\n",
        "print(\"Shape of the 2D list:\", (rows, columns))"
      ],
      "metadata": {
        "colab": {
          "base_uri": "https://localhost:8080/"
        },
        "id": "fKea6W5leiVs",
        "outputId": "3933e6f6-d024-4462-939e-8f6a7bd3d816"
      },
      "execution_count": null,
      "outputs": [
        {
          "output_type": "stream",
          "name": "stdout",
          "text": [
            "Shape of the 2D list: (3, 3)\n"
          ]
        }
      ]
    },
    {
      "cell_type": "markdown",
      "source": [
        "### List Slicing"
      ],
      "metadata": {
        "id": "JAW-5FEZhL-C"
      }
    },
    {
      "cell_type": "markdown",
      "source": [
        "Slicing General Syntax\n",
        "\n",
        "\n",
        "\n",
        "```\n",
        "list[start:stop:step]\n",
        "```\n",
        "\n"
      ],
      "metadata": {
        "id": "gAhwGZ4fhyfm"
      }
    },
    {
      "cell_type": "code",
      "source": [
        "sub_list = nums[1:4]\n"
      ],
      "metadata": {
        "id": "WHPKQGJGhTXg"
      },
      "execution_count": null,
      "outputs": []
    },
    {
      "cell_type": "markdown",
      "source": [
        "## Numpy"
      ],
      "metadata": {
        "id": "YZPTypRKX8fV"
      }
    },
    {
      "cell_type": "code",
      "source": [],
      "metadata": {
        "id": "u0Yj_Q9AYA4m"
      },
      "execution_count": null,
      "outputs": []
    },
    {
      "cell_type": "markdown",
      "source": [],
      "metadata": {
        "id": "4cVmqTXXh75f"
      }
    },
    {
      "cell_type": "markdown",
      "source": [
        "# Pandas\n"
      ],
      "metadata": {
        "id": "huO5AFzciC1V"
      }
    },
    {
      "cell_type": "markdown",
      "source": [
        "The `pandas` library provides high-performance, easy-to-use data structures and data analysis tools. The main data structure is `DataFrame`, which can be thought of as a 2D table (with column names and row labels).\n",
        "\n"
      ],
      "metadata": {
        "id": "kuKMv-2ZiIr3"
      }
    },
    {
      "cell_type": "markdown",
      "source": [
        "## Setup"
      ],
      "metadata": {
        "id": "J_JkbBPGa1qt"
      }
    },
    {
      "cell_type": "markdown",
      "source": [],
      "metadata": {
        "id": "bKufmhMRbUnt"
      }
    }
  ]
}